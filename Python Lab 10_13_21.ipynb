{
 "cells": [
  {
   "cell_type": "code",
   "execution_count": 4,
   "id": "9d744d33",
   "metadata": {},
   "outputs": [
    {
     "name": "stdout",
     "output_type": "stream",
     "text": [
      "Rule 1: 0.1\n",
      "Rule 2: 0.1\n",
      "Rule 3: 0.001396\n",
      "Rule 4: 0.030372\n"
     ]
    }
   ],
   "source": [
    "import numpy as np\n",
    "\n",
    "#-------------------------------------------------------------------------\n",
    "\n",
    "#Rule 1\n",
    "#If Q=c*A -> δQ=|c|*δA\n",
    "def rule1(error, c):\n",
    "    return round(abs(c) * error, 6)\n",
    "\n",
    "#Rule 2\n",
    "#If Q=c*A^m -> δQ=|c*m*A^(m-1)|*δA\n",
    "def rule2(value, error, exponent, c):\n",
    "    absolute = abs(c * exponent * (value**(exponent-1)))\n",
    "    dQ = absolute * error\n",
    "    return round(dQ, 6)\n",
    "\n",
    "#Rule 3\n",
    "#If Q=A+B or Q=A-B -> δQ=√(δA^2+δB^2+...)\n",
    "def rule3(errors: list):\n",
    "    sqrt_values = []\n",
    "    for i in range(len(errors)):\n",
    "        equation = errors[i] ** 2\n",
    "        sqrt_values.append(equation)\n",
    "\n",
    "    sqrt_ready = sum(sqrt_values)\n",
    "\n",
    "    dQ = np.sqrt(sqrt_ready)\n",
    "    return round(dQ, 6)\t\n",
    "\n",
    "#Rule 4\n",
    "#If Q=cA^m*B^n -> δQ=|Q|√((m*δA/A)^2+(n*δB/B)^2+...)\n",
    "def rule4(values: list, errors: list, exponents: list, Q):\n",
    "    sqrt_values = []\n",
    "    for i in range(len(values)):\n",
    "        equation = ((exponents[i] * errors[i]) / values[i]) ** 2\n",
    "        sqrt_values.append(equation)\n",
    "\n",
    "    sqrt_ready = sum(sqrt_values)\n",
    "\n",
    "    dQ = abs(Q) * np.sqrt(sqrt_ready)\n",
    "    return round(dQ, 6)\n",
    "\n",
    "#-------------------------------------------------------------------------\n",
    "\n",
    "#!!!  Make sure values, errors, and exponents all have the same  !!!\n",
    "#!!!  number of items when working with them.                    !!!\n",
    "\n",
    "#Values for rules, e.g. (A, B, C, D)\n",
    "values = [(.2639*.0661), (0.271), ((1-.8221))]\n",
    "#Errors for rules, e.g. (δA, δB, δC, δD)\n",
    "errors = [.0001, .0005, .0013]\n",
    "#Exponents for rules, e.g. (m, n, o, p)\n",
    "exponents = [-1, .5, .5]\n",
    "#Constant for the rules\n",
    "c = 1\n",
    "#Value of the sought error\n",
    "Q = (2 * 9.8)**0.5\n",
    "\n",
    "#Testing -----------------------------------------------------------------\n",
    "\n",
    "#prints all the rules\n",
    "print(f'Rule 1: {rule1(.1, 1)}')\n",
    "print(f'Rule 2: {rule2(1, .1, 1, 1)}')\n",
    "print(f'Rule 3: {rule3(errors)}')\n",
    "print(f'Rule 4: {rule4(values, errors, exponents, Q)}')\n"
   ]
  },
  {
   "cell_type": "code",
   "execution_count": 7,
   "id": "6873143d",
   "metadata": {},
   "outputs": [
    {
     "name": "stdout",
     "output_type": "stream",
     "text": [
      "Mean: 1.116667\n",
      "Error in mean: 0.029918\n"
     ]
    }
   ],
   "source": [
    "x = [1.1, 1.3, 1.4, 0.90, 0.95, 1.05]\n",
    "\n",
    "x_avg = np.average(x)\n",
    "dx = np.std(x) / len(x)\n",
    "\n",
    "print(f'Mean: {round(x_avg, 6)}')\n",
    "print(f'Error in mean: {round(dx, 6)}')\n"
   ]
  },
  {
   "cell_type": "markdown",
   "id": "70996291",
   "metadata": {},
   "source": [
    "$$\\delta Q = \\sqrt {\\delta A^2 + \\delta B^2} $$"
   ]
  },
  {
   "cell_type": "markdown",
   "id": "575b24a1",
   "metadata": {},
   "source": [
    "$$\\delta v_i = v_i \\sqrt {\\frac{1 * \\delta x^2}{x} + \\frac {\\frac{1}{2}*\\delta y^2}{y}} $$"
   ]
  },
  {
   "cell_type": "code",
   "execution_count": null,
   "id": "251c5c52",
   "metadata": {},
   "outputs": [],
   "source": []
  }
 ],
 "metadata": {
  "kernelspec": {
   "display_name": "Python 3",
   "language": "python",
   "name": "python3"
  },
  "language_info": {
   "codemirror_mode": {
    "name": "ipython",
    "version": 3
   },
   "file_extension": ".py",
   "mimetype": "text/x-python",
   "name": "python",
   "nbconvert_exporter": "python",
   "pygments_lexer": "ipython3",
   "version": "3.8.8"
  }
 },
 "nbformat": 4,
 "nbformat_minor": 5
}
