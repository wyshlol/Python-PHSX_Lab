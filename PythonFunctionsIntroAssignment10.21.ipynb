{
 "cells": [
  {
   "cell_type": "code",
   "execution_count": 15,
   "id": "ac0b4962",
   "metadata": {},
   "outputs": [
    {
     "name": "stdout",
     "output_type": "stream",
     "text": [
      "Error for rule 1 is 0.8999999999999999\n",
      "Error for rule 2 is -0.22499999999999998\n",
      "Error for rule 3 is 0.0007071067811865475\n",
      "Error for rule 4 is 0.012707558666438426\n",
      "The mean of the data set is 1.1166666666666667 , and the error in the mean is 0.073282810879294 .\n"
     ]
    }
   ],
   "source": [
    "import numpy as np \n",
    "#Rule #1: If Q = cA where c is a constant (or a quantity with negligible uncertainty), then δQ = |c|δA\n",
    "def rule1(c, da):\n",
    "    dQ = (c*da)\n",
    "    return dQ\n",
    "d1 = .3\n",
    "c1 = 3\n",
    "err = rule1(c1,d1)\n",
    "print (\"Error for rule 1 is\", err)\n",
    "\n",
    "#Rule 2: If Q = cA^m where c and m are constants, then δQ = |cmA^(m−1)|δA\n",
    "def rule2(c, A, m, da):\n",
    "    dQ = (c*m*A**(m-1)*da)\n",
    "    return dQ \n",
    "c1 = 3\n",
    "A1 = 2\n",
    "m1 = -1\n",
    "d1 = .3\n",
    "\n",
    "err2 = rule2(c1, A1, m1, d1)\n",
    "print (\"Error for rule 2 is\", err2) \n",
    "\n",
    "#Rule 3: If Q=A+B or Q=A−B,then δQ = sqrt[(δA)^2 + (δB)^2]\n",
    "def rule3(da, db):\n",
    "    dQ = np.sqrt(da**2+db**2)\n",
    "    return dQ\n",
    "d1 = 1.0\n",
    "d2 = 0.3 \n",
    "errd1 = .0005\n",
    "errd2 = .0005\n",
    "dtotal = d1 + d2\n",
    "errdtotal = rule3(errd1,errd2)\n",
    "print(\"Error for rule 3 is\", errdtotal)\n",
    "\n",
    "#Rule 4: Q = cA^mB^n where c, m, and n are constants\n",
    "def rule4(Q, A, m, da, B, n, db):\n",
    "    dQ = (Q*np.sqrt(((m*da)/A)**2 + ((n*db)/B)**2))\n",
    "    return dQ\n",
    "g = 9.8\n",
    "x = 1.6292\n",
    "m = 1\n",
    "y = .991\n",
    "n = -.5\n",
    "dx = .0057\n",
    "dy = .0005\n",
    "v = x*np.sqrt(.5*g/y)\n",
    "\n",
    "dv = rule4(v, x, m, dx, y, n, dy)\n",
    "\n",
    "print(\"Error for rule 4 is\", dv)\n",
    "\n",
    "#Using Python for Calculations\n",
    "#For the following dataset, calculate the mean (average) and the error in the mean using the numpy functions of np.std() for standard deviation and np.average(). x = 1.1, 1.3, 1.4, 0.9, 0.95, 1.05\n",
    "#Write out your results in a sentence.\n",
    "x = np.array([1.1, 1.3, 1.4, 0.9, 0.95, 1.05])\n",
    "xmean = np.average(x)\n",
    "xstdev = np.std(x)\n",
    "error = xstdev/np.sqrt(len(x)) \n",
    "\n",
    "print(\"The mean of the data set is\", xmean, \", and the error in the mean is\", error, \".\") \n"
   ]
  },
  {
   "cell_type": "markdown",
   "id": "99f191e1",
   "metadata": {},
   "source": [
    "$\\delta q = \\sqrt{\\delta a^2 + \\delta b^2} $\n"
   ]
  },
  {
   "cell_type": "markdown",
   "id": "b51946fe",
   "metadata": {},
   "source": [
    "$\\delta v_i = v_i \\sqrt{\\frac{1*\\delta x}{x}^2 + \\frac{.5*\\delta y}{y}^2} $ \n"
   ]
  },
  {
   "cell_type": "code",
   "execution_count": null,
   "id": "37815d47",
   "metadata": {},
   "outputs": [],
   "source": []
  }
 ],
 "metadata": {
  "kernelspec": {
   "display_name": "Python 3",
   "language": "python",
   "name": "python3"
  },
  "language_info": {
   "codemirror_mode": {
    "name": "ipython",
    "version": 3
   },
   "file_extension": ".py",
   "mimetype": "text/x-python",
   "name": "python",
   "nbconvert_exporter": "python",
   "pygments_lexer": "ipython3",
   "version": "3.8.8"
  }
 },
 "nbformat": 4,
 "nbformat_minor": 5
}
